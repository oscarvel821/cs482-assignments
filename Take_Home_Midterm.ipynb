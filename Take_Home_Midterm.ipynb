{
  "nbformat": 4,
  "nbformat_minor": 0,
  "metadata": {
    "colab": {
      "provenance": [],
      "authorship_tag": "ABX9TyOGSMVG5PIJ8UQC/nwx5OYH",
      "include_colab_link": true
    },
    "kernelspec": {
      "name": "python3",
      "display_name": "Python 3"
    },
    "language_info": {
      "name": "python"
    }
  },
  "cells": [
    {
      "cell_type": "markdown",
      "metadata": {
        "id": "view-in-github",
        "colab_type": "text"
      },
      "source": [
        "<a href=\"https://colab.research.google.com/github/oscarvel821/cs482-assignments/blob/main/Take_Home_Midterm.ipynb\" target=\"_parent\"><img src=\"https://colab.research.google.com/assets/colab-badge.svg\" alt=\"Open In Colab\"/></a>"
      ]
    },
    {
      "cell_type": "code",
      "execution_count": 1985,
      "metadata": {
        "id": "2HY6h7P-9Ueg"
      },
      "outputs": [],
      "source": [
        "import matplotlib.pyplot as plt\n",
        "import numpy as np\n",
        "import pandas as pd\n",
        "from sklearn.model_selection import train_test_split\n",
        "from sklearn.metrics import f1_score\n",
        "from sklearn.metrics import accuracy_score\n",
        "from sklearn.preprocessing import LabelEncoder\n",
        "from sklearn.preprocessing import OneHotEncoder"
      ]
    },
    {
      "cell_type": "markdown",
      "source": [
        "# Midterm - Spring 2023\n",
        "\n",
        "## Problem 1: Take-at-home  (45 points total)\n",
        "\n",
        "You are applying for a position at the data science team of USDA and you are given data associated with determining appropriate parasite treatment of canines. The suggested treatment options are determined based on a **logistic regression** model that predicts if the canine is infected with a parasite. \n",
        "\n",
        "The data is given in the site: https://data.world/ehales/grls-parasite-study/workspace/file?filename=CBC_data.csv  and more specifically in the CBC_data.csv file. Login using you University Google account to access the data and the description that includes a paper on the study (**you dont need to read the paper to solve this problem**). Your target variable $y$ column is titled `parasite_status`. \n",
        "\n",
        "\n"
      ],
      "metadata": {
        "id": "vc9V9Kia-a94"
      }
    },
    {
      "cell_type": "markdown",
      "source": [
        "### Question 1 - Feature Engineering (5 points)\n",
        "\n",
        "In this step you outline the following as potential features (this is a limited example - we can have many features as in your programming exercise below). \n",
        "\n",
        "Write the posterior probability expressions for logistic regression for the problem you are given to solve.\n"
      ],
      "metadata": {
        "id": "4hJlEiV6-fcC"
      }
    },
    {
      "cell_type": "markdown",
      "source": [
        "$$p(y=1| \\mathbf{x}, \\mathbf w)= \\frac{1}{1 + e^-{w^T x + b}} = ŷ$$\n",
        "\n",
        "$$p(y=0| \\mathbf{x}, \\mathbf w)= 1 - ŷ$$ \n"
      ],
      "metadata": {
        "id": "iUg1P6O5-gwN"
      }
    },
    {
      "cell_type": "markdown",
      "source": [
        "\n",
        "\n",
        "### Question 2 - Decision Boundary (5 points)\n",
        "\n",
        "Write the expression for the decision boundary assuming that $p(y=1)=p(y=0)$. The decision boundary is the line that separates the two classes.\n",
        "\n"
      ],
      "metadata": {
        "id": "p5Go80O-AQwR"
      }
    },
    {
      "cell_type": "markdown",
      "source": [
        "$$b + w_0 x_0 + ... + w_n x_n = 0$$"
      ],
      "metadata": {
        "id": "kVKdU10JAU4n"
      }
    },
    {
      "cell_type": "markdown",
      "source": [
        "### Question 3 - Loss function (5 points)\n",
        "\n",
        "Write the expression of the loss as a function of $\\mathbf w$ that makes sense for you to use in this problem. \n",
        "\n",
        "NOTE: The loss will be a function that will include this function: \n",
        "\n",
        "$$\\sigma(a) = \\frac{1}{1+e^{-a}}$$"
      ],
      "metadata": {
        "id": "BvsozFD2AfW3"
      }
    },
    {
      "cell_type": "markdown",
      "source": [
        "$$L_{CE} = \\frac{1}{M} \\sum_{i = 1}^{n} y_ilogσ + (1 - y_i) log(1 - σ)$$"
      ],
      "metadata": {
        "id": "AfznneBEAqD7"
      }
    },
    {
      "cell_type": "markdown",
      "source": [
        "$$a(w, x , b) = w^Tx + b$$"
      ],
      "metadata": {
        "id": "2KD6RwRoUWRt"
      }
    },
    {
      "cell_type": "markdown",
      "source": [],
      "metadata": {
        "id": "BDioIKuffGuW"
      }
    },
    {
      "cell_type": "markdown",
      "source": [
        "\n",
        "### Question 4 - Gradient (5 points)\n",
        "\n",
        "Write the expression of the gradient of the loss with respect to the parameters - show all your work."
      ],
      "metadata": {
        "id": "wAz0qErsPPm2"
      }
    },
    {
      "cell_type": "markdown",
      "source": [
        "$$ \\nabla_\\mathbf w L_{CE} = \\frac{1}{M}  \\sum_{i = 1}^{n} (y_i - σ) x_i$$"
      ],
      "metadata": {
        "id": "QG2YOeW-Pk8h"
      }
    },
    {
      "cell_type": "markdown",
      "source": [
        "### Question 5 - Imbalanced dataset (10 points)\n",
        "\n",
        "You are now told that in the dataset  \n",
        "\n",
        "$$p(y=0) >> p(y=1)$$\n",
        "\n",
        "Can you comment if the accuracy of Logistic Regression will be affected by such imbalance?"
      ],
      "metadata": {
        "id": "bA4MEdEofKPT"
      }
    },
    {
      "cell_type": "markdown",
      "source": [
        "The challenge with imbalanced dataset prediction is how accurately we predict both majority and minority classes. Often the minority is more important to predict, sometimes while training the model the accuracy of logistic regression can be high but because of the imbalance dataset we can see that the model predict false positive. Therefore we need to choice the right strategy to handle this problem. Some technique for handling the problem are Oversampling or Undersampling, Class Weight Adjustment and Decision Threshold moving."
      ],
      "metadata": {
        "id": "ikclXNrn9_Iu"
      }
    },
    {
      "cell_type": "markdown",
      "source": [
        "\n",
        "### Question 6 - SGD (15 points)\n",
        "\n",
        "The interviewer was impressed with your answers and wants to test your programming skills. \n",
        "\n",
        "1. Use the dataset to train a logistic regressor that will predict the target variable $y$. \n",
        "\n",
        " 2. Report the harmonic mean of precision (p) and recall (r) i.e the  [metric called $F_1$ score](https://en.wikipedia.org/wiki/F-score) that is calculated as shown below using a test dataset that is 20% of each group. Plot the $F_1$ score vs the iteration number  $t$. \n",
        "\n",
        "$$F_1 = \\frac{2}{r^{-1} + p^{-1}}$$\n",
        "\n",
        "Your code includes hyperparameter optimization of the learning rate and mini batch size. Please learn about cross validation which is a splitting strategy for tuning models [here](https://scikit-learn.org/stable/modules/cross_validation.html).\n",
        "\n",
        "You are allowed to use any library you want to code this problem.\n"
      ],
      "metadata": {
        "id": "RrNFcRVBgyhH"
      }
    },
    {
      "cell_type": "code",
      "source": [
        "df = pd.read_csv('https://query.data.world/s/4lwxrkiz7ci4tcgkfyv3qblj5oikxu')"
      ],
      "metadata": {
        "id": "T8jcivIOPjW5"
      },
      "execution_count": 1986,
      "outputs": []
    },
    {
      "cell_type": "code",
      "source": [
        "df"
      ],
      "metadata": {
        "id": "ZcdxLNpPmBp7",
        "outputId": "a305bd83-ad18-487d-f23c-6ef4c0d929fd",
        "colab": {
          "base_uri": "https://localhost:8080/",
          "height": 424
        }
      },
      "execution_count": 1987,
      "outputs": [
        {
          "output_type": "execute_result",
          "data": {
            "text/plain": [
              "                ID     SEX  TYPEAREA       SEX.REPRO REPRO.STATUS  AGE  \\\n",
              "0     grls5ZUT2BYY    Male  Suburban      IntactMale       Intact    9   \n",
              "1     grls8DCONYUU  Female     Rural  NeuteredFemale     Neutered    6   \n",
              "2     grlsUC5R4PTT    Male  Suburban      IntactMale       Intact   14   \n",
              "3     grlsXUR2PY88    Male     Rural      IntactMale       Intact    6   \n",
              "4     grlsTBZUF3GG  Female     Rural    IntactFemale       Intact   18   \n",
              "...            ...     ...       ...             ...          ...  ...   \n",
              "3010  grlsEFAHDC99  Female     Rural    IntactFemale       Intact   22   \n",
              "3011  grls3XQD0E33    Male  Suburban      IntactMale       Intact   18   \n",
              "3012  grlsJ4RY5O33  Female     Rural  NeuteredFemale     Neutered   14   \n",
              "3013  grls3SN3WPJJ    Male     Rural      IntactMale       Intact   14   \n",
              "3014  grlsOFX17FUU    Male     Rural      IntactMale       Intact   16   \n",
              "\n",
              "     PARASITE_STATUS  ALB  BILI  GLUC  NAK   TP   T4  CRE  \n",
              "0           Negative  3.5   0.2    92   35  5.8  2.2  1.2  \n",
              "1           Negative  3.6   0.2    95   31  5.5  2.4  0.8  \n",
              "2           Negative  3.8   0.2    97   34  6.0  1.8  1.1  \n",
              "3           Negative  3.5   0.1   101   31  5.7  1.7  0.9  \n",
              "4           Negative  3.4   0.2    83   33  5.6  1.5  1.1  \n",
              "...              ...  ...   ...   ...  ...  ...  ...  ...  \n",
              "3010        Negative  3.7   0.3    81   34  6.3  1.3  0.7  \n",
              "3011        Negative  3.9   0.4    70   34  6.3  2.4  1.0  \n",
              "3012        Negative  3.5   0.3    82   35  6.2  0.9  0.9  \n",
              "3013        Positive  3.8   0.2    82   35  5.8  1.3  1.2  \n",
              "3014        Negative  3.6   0.3    86   31  5.9  1.3  1.1  \n",
              "\n",
              "[3015 rows x 14 columns]"
            ],
            "text/html": [
              "\n",
              "  <div id=\"df-09469038-98be-4991-9dbd-bcf47a2ff675\">\n",
              "    <div class=\"colab-df-container\">\n",
              "      <div>\n",
              "<style scoped>\n",
              "    .dataframe tbody tr th:only-of-type {\n",
              "        vertical-align: middle;\n",
              "    }\n",
              "\n",
              "    .dataframe tbody tr th {\n",
              "        vertical-align: top;\n",
              "    }\n",
              "\n",
              "    .dataframe thead th {\n",
              "        text-align: right;\n",
              "    }\n",
              "</style>\n",
              "<table border=\"1\" class=\"dataframe\">\n",
              "  <thead>\n",
              "    <tr style=\"text-align: right;\">\n",
              "      <th></th>\n",
              "      <th>ID</th>\n",
              "      <th>SEX</th>\n",
              "      <th>TYPEAREA</th>\n",
              "      <th>SEX.REPRO</th>\n",
              "      <th>REPRO.STATUS</th>\n",
              "      <th>AGE</th>\n",
              "      <th>PARASITE_STATUS</th>\n",
              "      <th>ALB</th>\n",
              "      <th>BILI</th>\n",
              "      <th>GLUC</th>\n",
              "      <th>NAK</th>\n",
              "      <th>TP</th>\n",
              "      <th>T4</th>\n",
              "      <th>CRE</th>\n",
              "    </tr>\n",
              "  </thead>\n",
              "  <tbody>\n",
              "    <tr>\n",
              "      <th>0</th>\n",
              "      <td>grls5ZUT2BYY</td>\n",
              "      <td>Male</td>\n",
              "      <td>Suburban</td>\n",
              "      <td>IntactMale</td>\n",
              "      <td>Intact</td>\n",
              "      <td>9</td>\n",
              "      <td>Negative</td>\n",
              "      <td>3.5</td>\n",
              "      <td>0.2</td>\n",
              "      <td>92</td>\n",
              "      <td>35</td>\n",
              "      <td>5.8</td>\n",
              "      <td>2.2</td>\n",
              "      <td>1.2</td>\n",
              "    </tr>\n",
              "    <tr>\n",
              "      <th>1</th>\n",
              "      <td>grls8DCONYUU</td>\n",
              "      <td>Female</td>\n",
              "      <td>Rural</td>\n",
              "      <td>NeuteredFemale</td>\n",
              "      <td>Neutered</td>\n",
              "      <td>6</td>\n",
              "      <td>Negative</td>\n",
              "      <td>3.6</td>\n",
              "      <td>0.2</td>\n",
              "      <td>95</td>\n",
              "      <td>31</td>\n",
              "      <td>5.5</td>\n",
              "      <td>2.4</td>\n",
              "      <td>0.8</td>\n",
              "    </tr>\n",
              "    <tr>\n",
              "      <th>2</th>\n",
              "      <td>grlsUC5R4PTT</td>\n",
              "      <td>Male</td>\n",
              "      <td>Suburban</td>\n",
              "      <td>IntactMale</td>\n",
              "      <td>Intact</td>\n",
              "      <td>14</td>\n",
              "      <td>Negative</td>\n",
              "      <td>3.8</td>\n",
              "      <td>0.2</td>\n",
              "      <td>97</td>\n",
              "      <td>34</td>\n",
              "      <td>6.0</td>\n",
              "      <td>1.8</td>\n",
              "      <td>1.1</td>\n",
              "    </tr>\n",
              "    <tr>\n",
              "      <th>3</th>\n",
              "      <td>grlsXUR2PY88</td>\n",
              "      <td>Male</td>\n",
              "      <td>Rural</td>\n",
              "      <td>IntactMale</td>\n",
              "      <td>Intact</td>\n",
              "      <td>6</td>\n",
              "      <td>Negative</td>\n",
              "      <td>3.5</td>\n",
              "      <td>0.1</td>\n",
              "      <td>101</td>\n",
              "      <td>31</td>\n",
              "      <td>5.7</td>\n",
              "      <td>1.7</td>\n",
              "      <td>0.9</td>\n",
              "    </tr>\n",
              "    <tr>\n",
              "      <th>4</th>\n",
              "      <td>grlsTBZUF3GG</td>\n",
              "      <td>Female</td>\n",
              "      <td>Rural</td>\n",
              "      <td>IntactFemale</td>\n",
              "      <td>Intact</td>\n",
              "      <td>18</td>\n",
              "      <td>Negative</td>\n",
              "      <td>3.4</td>\n",
              "      <td>0.2</td>\n",
              "      <td>83</td>\n",
              "      <td>33</td>\n",
              "      <td>5.6</td>\n",
              "      <td>1.5</td>\n",
              "      <td>1.1</td>\n",
              "    </tr>\n",
              "    <tr>\n",
              "      <th>...</th>\n",
              "      <td>...</td>\n",
              "      <td>...</td>\n",
              "      <td>...</td>\n",
              "      <td>...</td>\n",
              "      <td>...</td>\n",
              "      <td>...</td>\n",
              "      <td>...</td>\n",
              "      <td>...</td>\n",
              "      <td>...</td>\n",
              "      <td>...</td>\n",
              "      <td>...</td>\n",
              "      <td>...</td>\n",
              "      <td>...</td>\n",
              "      <td>...</td>\n",
              "    </tr>\n",
              "    <tr>\n",
              "      <th>3010</th>\n",
              "      <td>grlsEFAHDC99</td>\n",
              "      <td>Female</td>\n",
              "      <td>Rural</td>\n",
              "      <td>IntactFemale</td>\n",
              "      <td>Intact</td>\n",
              "      <td>22</td>\n",
              "      <td>Negative</td>\n",
              "      <td>3.7</td>\n",
              "      <td>0.3</td>\n",
              "      <td>81</td>\n",
              "      <td>34</td>\n",
              "      <td>6.3</td>\n",
              "      <td>1.3</td>\n",
              "      <td>0.7</td>\n",
              "    </tr>\n",
              "    <tr>\n",
              "      <th>3011</th>\n",
              "      <td>grls3XQD0E33</td>\n",
              "      <td>Male</td>\n",
              "      <td>Suburban</td>\n",
              "      <td>IntactMale</td>\n",
              "      <td>Intact</td>\n",
              "      <td>18</td>\n",
              "      <td>Negative</td>\n",
              "      <td>3.9</td>\n",
              "      <td>0.4</td>\n",
              "      <td>70</td>\n",
              "      <td>34</td>\n",
              "      <td>6.3</td>\n",
              "      <td>2.4</td>\n",
              "      <td>1.0</td>\n",
              "    </tr>\n",
              "    <tr>\n",
              "      <th>3012</th>\n",
              "      <td>grlsJ4RY5O33</td>\n",
              "      <td>Female</td>\n",
              "      <td>Rural</td>\n",
              "      <td>NeuteredFemale</td>\n",
              "      <td>Neutered</td>\n",
              "      <td>14</td>\n",
              "      <td>Negative</td>\n",
              "      <td>3.5</td>\n",
              "      <td>0.3</td>\n",
              "      <td>82</td>\n",
              "      <td>35</td>\n",
              "      <td>6.2</td>\n",
              "      <td>0.9</td>\n",
              "      <td>0.9</td>\n",
              "    </tr>\n",
              "    <tr>\n",
              "      <th>3013</th>\n",
              "      <td>grls3SN3WPJJ</td>\n",
              "      <td>Male</td>\n",
              "      <td>Rural</td>\n",
              "      <td>IntactMale</td>\n",
              "      <td>Intact</td>\n",
              "      <td>14</td>\n",
              "      <td>Positive</td>\n",
              "      <td>3.8</td>\n",
              "      <td>0.2</td>\n",
              "      <td>82</td>\n",
              "      <td>35</td>\n",
              "      <td>5.8</td>\n",
              "      <td>1.3</td>\n",
              "      <td>1.2</td>\n",
              "    </tr>\n",
              "    <tr>\n",
              "      <th>3014</th>\n",
              "      <td>grlsOFX17FUU</td>\n",
              "      <td>Male</td>\n",
              "      <td>Rural</td>\n",
              "      <td>IntactMale</td>\n",
              "      <td>Intact</td>\n",
              "      <td>16</td>\n",
              "      <td>Negative</td>\n",
              "      <td>3.6</td>\n",
              "      <td>0.3</td>\n",
              "      <td>86</td>\n",
              "      <td>31</td>\n",
              "      <td>5.9</td>\n",
              "      <td>1.3</td>\n",
              "      <td>1.1</td>\n",
              "    </tr>\n",
              "  </tbody>\n",
              "</table>\n",
              "<p>3015 rows × 14 columns</p>\n",
              "</div>\n",
              "      <button class=\"colab-df-convert\" onclick=\"convertToInteractive('df-09469038-98be-4991-9dbd-bcf47a2ff675')\"\n",
              "              title=\"Convert this dataframe to an interactive table.\"\n",
              "              style=\"display:none;\">\n",
              "        \n",
              "  <svg xmlns=\"http://www.w3.org/2000/svg\" height=\"24px\"viewBox=\"0 0 24 24\"\n",
              "       width=\"24px\">\n",
              "    <path d=\"M0 0h24v24H0V0z\" fill=\"none\"/>\n",
              "    <path d=\"M18.56 5.44l.94 2.06.94-2.06 2.06-.94-2.06-.94-.94-2.06-.94 2.06-2.06.94zm-11 1L8.5 8.5l.94-2.06 2.06-.94-2.06-.94L8.5 2.5l-.94 2.06-2.06.94zm10 10l.94 2.06.94-2.06 2.06-.94-2.06-.94-.94-2.06-.94 2.06-2.06.94z\"/><path d=\"M17.41 7.96l-1.37-1.37c-.4-.4-.92-.59-1.43-.59-.52 0-1.04.2-1.43.59L10.3 9.45l-7.72 7.72c-.78.78-.78 2.05 0 2.83L4 21.41c.39.39.9.59 1.41.59.51 0 1.02-.2 1.41-.59l7.78-7.78 2.81-2.81c.8-.78.8-2.07 0-2.86zM5.41 20L4 18.59l7.72-7.72 1.47 1.35L5.41 20z\"/>\n",
              "  </svg>\n",
              "      </button>\n",
              "      \n",
              "  <style>\n",
              "    .colab-df-container {\n",
              "      display:flex;\n",
              "      flex-wrap:wrap;\n",
              "      gap: 12px;\n",
              "    }\n",
              "\n",
              "    .colab-df-convert {\n",
              "      background-color: #E8F0FE;\n",
              "      border: none;\n",
              "      border-radius: 50%;\n",
              "      cursor: pointer;\n",
              "      display: none;\n",
              "      fill: #1967D2;\n",
              "      height: 32px;\n",
              "      padding: 0 0 0 0;\n",
              "      width: 32px;\n",
              "    }\n",
              "\n",
              "    .colab-df-convert:hover {\n",
              "      background-color: #E2EBFA;\n",
              "      box-shadow: 0px 1px 2px rgba(60, 64, 67, 0.3), 0px 1px 3px 1px rgba(60, 64, 67, 0.15);\n",
              "      fill: #174EA6;\n",
              "    }\n",
              "\n",
              "    [theme=dark] .colab-df-convert {\n",
              "      background-color: #3B4455;\n",
              "      fill: #D2E3FC;\n",
              "    }\n",
              "\n",
              "    [theme=dark] .colab-df-convert:hover {\n",
              "      background-color: #434B5C;\n",
              "      box-shadow: 0px 1px 3px 1px rgba(0, 0, 0, 0.15);\n",
              "      filter: drop-shadow(0px 1px 2px rgba(0, 0, 0, 0.3));\n",
              "      fill: #FFFFFF;\n",
              "    }\n",
              "  </style>\n",
              "\n",
              "      <script>\n",
              "        const buttonEl =\n",
              "          document.querySelector('#df-09469038-98be-4991-9dbd-bcf47a2ff675 button.colab-df-convert');\n",
              "        buttonEl.style.display =\n",
              "          google.colab.kernel.accessAllowed ? 'block' : 'none';\n",
              "\n",
              "        async function convertToInteractive(key) {\n",
              "          const element = document.querySelector('#df-09469038-98be-4991-9dbd-bcf47a2ff675');\n",
              "          const dataTable =\n",
              "            await google.colab.kernel.invokeFunction('convertToInteractive',\n",
              "                                                     [key], {});\n",
              "          if (!dataTable) return;\n",
              "\n",
              "          const docLinkHtml = 'Like what you see? Visit the ' +\n",
              "            '<a target=\"_blank\" href=https://colab.research.google.com/notebooks/data_table.ipynb>data table notebook</a>'\n",
              "            + ' to learn more about interactive tables.';\n",
              "          element.innerHTML = '';\n",
              "          dataTable['output_type'] = 'display_data';\n",
              "          await google.colab.output.renderOutput(dataTable, element);\n",
              "          const docLink = document.createElement('div');\n",
              "          docLink.innerHTML = docLinkHtml;\n",
              "          element.appendChild(docLink);\n",
              "        }\n",
              "      </script>\n",
              "    </div>\n",
              "  </div>\n",
              "  "
            ]
          },
          "metadata": {},
          "execution_count": 1987
        }
      ]
    },
    {
      "cell_type": "code",
      "source": [
        "df.PARASITE_STATUS = df.PARASITE_STATUS.map(lambda x : 0 if x == 'Negative' else 1)"
      ],
      "metadata": {
        "id": "MpFk-WS4nPvs"
      },
      "execution_count": 1988,
      "outputs": []
    },
    {
      "cell_type": "code",
      "source": [
        "df"
      ],
      "metadata": {
        "colab": {
          "base_uri": "https://localhost:8080/",
          "height": 424
        },
        "id": "BSIvhLLQnlAl",
        "outputId": "1987d3a9-7a6f-4aff-89ee-8736f968b73f"
      },
      "execution_count": 1989,
      "outputs": [
        {
          "output_type": "execute_result",
          "data": {
            "text/plain": [
              "                ID     SEX  TYPEAREA       SEX.REPRO REPRO.STATUS  AGE  \\\n",
              "0     grls5ZUT2BYY    Male  Suburban      IntactMale       Intact    9   \n",
              "1     grls8DCONYUU  Female     Rural  NeuteredFemale     Neutered    6   \n",
              "2     grlsUC5R4PTT    Male  Suburban      IntactMale       Intact   14   \n",
              "3     grlsXUR2PY88    Male     Rural      IntactMale       Intact    6   \n",
              "4     grlsTBZUF3GG  Female     Rural    IntactFemale       Intact   18   \n",
              "...            ...     ...       ...             ...          ...  ...   \n",
              "3010  grlsEFAHDC99  Female     Rural    IntactFemale       Intact   22   \n",
              "3011  grls3XQD0E33    Male  Suburban      IntactMale       Intact   18   \n",
              "3012  grlsJ4RY5O33  Female     Rural  NeuteredFemale     Neutered   14   \n",
              "3013  grls3SN3WPJJ    Male     Rural      IntactMale       Intact   14   \n",
              "3014  grlsOFX17FUU    Male     Rural      IntactMale       Intact   16   \n",
              "\n",
              "      PARASITE_STATUS  ALB  BILI  GLUC  NAK   TP   T4  CRE  \n",
              "0                   0  3.5   0.2    92   35  5.8  2.2  1.2  \n",
              "1                   0  3.6   0.2    95   31  5.5  2.4  0.8  \n",
              "2                   0  3.8   0.2    97   34  6.0  1.8  1.1  \n",
              "3                   0  3.5   0.1   101   31  5.7  1.7  0.9  \n",
              "4                   0  3.4   0.2    83   33  5.6  1.5  1.1  \n",
              "...               ...  ...   ...   ...  ...  ...  ...  ...  \n",
              "3010                0  3.7   0.3    81   34  6.3  1.3  0.7  \n",
              "3011                0  3.9   0.4    70   34  6.3  2.4  1.0  \n",
              "3012                0  3.5   0.3    82   35  6.2  0.9  0.9  \n",
              "3013                1  3.8   0.2    82   35  5.8  1.3  1.2  \n",
              "3014                0  3.6   0.3    86   31  5.9  1.3  1.1  \n",
              "\n",
              "[3015 rows x 14 columns]"
            ],
            "text/html": [
              "\n",
              "  <div id=\"df-31f22653-4d14-42ed-a3a5-5d383d8d1f79\">\n",
              "    <div class=\"colab-df-container\">\n",
              "      <div>\n",
              "<style scoped>\n",
              "    .dataframe tbody tr th:only-of-type {\n",
              "        vertical-align: middle;\n",
              "    }\n",
              "\n",
              "    .dataframe tbody tr th {\n",
              "        vertical-align: top;\n",
              "    }\n",
              "\n",
              "    .dataframe thead th {\n",
              "        text-align: right;\n",
              "    }\n",
              "</style>\n",
              "<table border=\"1\" class=\"dataframe\">\n",
              "  <thead>\n",
              "    <tr style=\"text-align: right;\">\n",
              "      <th></th>\n",
              "      <th>ID</th>\n",
              "      <th>SEX</th>\n",
              "      <th>TYPEAREA</th>\n",
              "      <th>SEX.REPRO</th>\n",
              "      <th>REPRO.STATUS</th>\n",
              "      <th>AGE</th>\n",
              "      <th>PARASITE_STATUS</th>\n",
              "      <th>ALB</th>\n",
              "      <th>BILI</th>\n",
              "      <th>GLUC</th>\n",
              "      <th>NAK</th>\n",
              "      <th>TP</th>\n",
              "      <th>T4</th>\n",
              "      <th>CRE</th>\n",
              "    </tr>\n",
              "  </thead>\n",
              "  <tbody>\n",
              "    <tr>\n",
              "      <th>0</th>\n",
              "      <td>grls5ZUT2BYY</td>\n",
              "      <td>Male</td>\n",
              "      <td>Suburban</td>\n",
              "      <td>IntactMale</td>\n",
              "      <td>Intact</td>\n",
              "      <td>9</td>\n",
              "      <td>0</td>\n",
              "      <td>3.5</td>\n",
              "      <td>0.2</td>\n",
              "      <td>92</td>\n",
              "      <td>35</td>\n",
              "      <td>5.8</td>\n",
              "      <td>2.2</td>\n",
              "      <td>1.2</td>\n",
              "    </tr>\n",
              "    <tr>\n",
              "      <th>1</th>\n",
              "      <td>grls8DCONYUU</td>\n",
              "      <td>Female</td>\n",
              "      <td>Rural</td>\n",
              "      <td>NeuteredFemale</td>\n",
              "      <td>Neutered</td>\n",
              "      <td>6</td>\n",
              "      <td>0</td>\n",
              "      <td>3.6</td>\n",
              "      <td>0.2</td>\n",
              "      <td>95</td>\n",
              "      <td>31</td>\n",
              "      <td>5.5</td>\n",
              "      <td>2.4</td>\n",
              "      <td>0.8</td>\n",
              "    </tr>\n",
              "    <tr>\n",
              "      <th>2</th>\n",
              "      <td>grlsUC5R4PTT</td>\n",
              "      <td>Male</td>\n",
              "      <td>Suburban</td>\n",
              "      <td>IntactMale</td>\n",
              "      <td>Intact</td>\n",
              "      <td>14</td>\n",
              "      <td>0</td>\n",
              "      <td>3.8</td>\n",
              "      <td>0.2</td>\n",
              "      <td>97</td>\n",
              "      <td>34</td>\n",
              "      <td>6.0</td>\n",
              "      <td>1.8</td>\n",
              "      <td>1.1</td>\n",
              "    </tr>\n",
              "    <tr>\n",
              "      <th>3</th>\n",
              "      <td>grlsXUR2PY88</td>\n",
              "      <td>Male</td>\n",
              "      <td>Rural</td>\n",
              "      <td>IntactMale</td>\n",
              "      <td>Intact</td>\n",
              "      <td>6</td>\n",
              "      <td>0</td>\n",
              "      <td>3.5</td>\n",
              "      <td>0.1</td>\n",
              "      <td>101</td>\n",
              "      <td>31</td>\n",
              "      <td>5.7</td>\n",
              "      <td>1.7</td>\n",
              "      <td>0.9</td>\n",
              "    </tr>\n",
              "    <tr>\n",
              "      <th>4</th>\n",
              "      <td>grlsTBZUF3GG</td>\n",
              "      <td>Female</td>\n",
              "      <td>Rural</td>\n",
              "      <td>IntactFemale</td>\n",
              "      <td>Intact</td>\n",
              "      <td>18</td>\n",
              "      <td>0</td>\n",
              "      <td>3.4</td>\n",
              "      <td>0.2</td>\n",
              "      <td>83</td>\n",
              "      <td>33</td>\n",
              "      <td>5.6</td>\n",
              "      <td>1.5</td>\n",
              "      <td>1.1</td>\n",
              "    </tr>\n",
              "    <tr>\n",
              "      <th>...</th>\n",
              "      <td>...</td>\n",
              "      <td>...</td>\n",
              "      <td>...</td>\n",
              "      <td>...</td>\n",
              "      <td>...</td>\n",
              "      <td>...</td>\n",
              "      <td>...</td>\n",
              "      <td>...</td>\n",
              "      <td>...</td>\n",
              "      <td>...</td>\n",
              "      <td>...</td>\n",
              "      <td>...</td>\n",
              "      <td>...</td>\n",
              "      <td>...</td>\n",
              "    </tr>\n",
              "    <tr>\n",
              "      <th>3010</th>\n",
              "      <td>grlsEFAHDC99</td>\n",
              "      <td>Female</td>\n",
              "      <td>Rural</td>\n",
              "      <td>IntactFemale</td>\n",
              "      <td>Intact</td>\n",
              "      <td>22</td>\n",
              "      <td>0</td>\n",
              "      <td>3.7</td>\n",
              "      <td>0.3</td>\n",
              "      <td>81</td>\n",
              "      <td>34</td>\n",
              "      <td>6.3</td>\n",
              "      <td>1.3</td>\n",
              "      <td>0.7</td>\n",
              "    </tr>\n",
              "    <tr>\n",
              "      <th>3011</th>\n",
              "      <td>grls3XQD0E33</td>\n",
              "      <td>Male</td>\n",
              "      <td>Suburban</td>\n",
              "      <td>IntactMale</td>\n",
              "      <td>Intact</td>\n",
              "      <td>18</td>\n",
              "      <td>0</td>\n",
              "      <td>3.9</td>\n",
              "      <td>0.4</td>\n",
              "      <td>70</td>\n",
              "      <td>34</td>\n",
              "      <td>6.3</td>\n",
              "      <td>2.4</td>\n",
              "      <td>1.0</td>\n",
              "    </tr>\n",
              "    <tr>\n",
              "      <th>3012</th>\n",
              "      <td>grlsJ4RY5O33</td>\n",
              "      <td>Female</td>\n",
              "      <td>Rural</td>\n",
              "      <td>NeuteredFemale</td>\n",
              "      <td>Neutered</td>\n",
              "      <td>14</td>\n",
              "      <td>0</td>\n",
              "      <td>3.5</td>\n",
              "      <td>0.3</td>\n",
              "      <td>82</td>\n",
              "      <td>35</td>\n",
              "      <td>6.2</td>\n",
              "      <td>0.9</td>\n",
              "      <td>0.9</td>\n",
              "    </tr>\n",
              "    <tr>\n",
              "      <th>3013</th>\n",
              "      <td>grls3SN3WPJJ</td>\n",
              "      <td>Male</td>\n",
              "      <td>Rural</td>\n",
              "      <td>IntactMale</td>\n",
              "      <td>Intact</td>\n",
              "      <td>14</td>\n",
              "      <td>1</td>\n",
              "      <td>3.8</td>\n",
              "      <td>0.2</td>\n",
              "      <td>82</td>\n",
              "      <td>35</td>\n",
              "      <td>5.8</td>\n",
              "      <td>1.3</td>\n",
              "      <td>1.2</td>\n",
              "    </tr>\n",
              "    <tr>\n",
              "      <th>3014</th>\n",
              "      <td>grlsOFX17FUU</td>\n",
              "      <td>Male</td>\n",
              "      <td>Rural</td>\n",
              "      <td>IntactMale</td>\n",
              "      <td>Intact</td>\n",
              "      <td>16</td>\n",
              "      <td>0</td>\n",
              "      <td>3.6</td>\n",
              "      <td>0.3</td>\n",
              "      <td>86</td>\n",
              "      <td>31</td>\n",
              "      <td>5.9</td>\n",
              "      <td>1.3</td>\n",
              "      <td>1.1</td>\n",
              "    </tr>\n",
              "  </tbody>\n",
              "</table>\n",
              "<p>3015 rows × 14 columns</p>\n",
              "</div>\n",
              "      <button class=\"colab-df-convert\" onclick=\"convertToInteractive('df-31f22653-4d14-42ed-a3a5-5d383d8d1f79')\"\n",
              "              title=\"Convert this dataframe to an interactive table.\"\n",
              "              style=\"display:none;\">\n",
              "        \n",
              "  <svg xmlns=\"http://www.w3.org/2000/svg\" height=\"24px\"viewBox=\"0 0 24 24\"\n",
              "       width=\"24px\">\n",
              "    <path d=\"M0 0h24v24H0V0z\" fill=\"none\"/>\n",
              "    <path d=\"M18.56 5.44l.94 2.06.94-2.06 2.06-.94-2.06-.94-.94-2.06-.94 2.06-2.06.94zm-11 1L8.5 8.5l.94-2.06 2.06-.94-2.06-.94L8.5 2.5l-.94 2.06-2.06.94zm10 10l.94 2.06.94-2.06 2.06-.94-2.06-.94-.94-2.06-.94 2.06-2.06.94z\"/><path d=\"M17.41 7.96l-1.37-1.37c-.4-.4-.92-.59-1.43-.59-.52 0-1.04.2-1.43.59L10.3 9.45l-7.72 7.72c-.78.78-.78 2.05 0 2.83L4 21.41c.39.39.9.59 1.41.59.51 0 1.02-.2 1.41-.59l7.78-7.78 2.81-2.81c.8-.78.8-2.07 0-2.86zM5.41 20L4 18.59l7.72-7.72 1.47 1.35L5.41 20z\"/>\n",
              "  </svg>\n",
              "      </button>\n",
              "      \n",
              "  <style>\n",
              "    .colab-df-container {\n",
              "      display:flex;\n",
              "      flex-wrap:wrap;\n",
              "      gap: 12px;\n",
              "    }\n",
              "\n",
              "    .colab-df-convert {\n",
              "      background-color: #E8F0FE;\n",
              "      border: none;\n",
              "      border-radius: 50%;\n",
              "      cursor: pointer;\n",
              "      display: none;\n",
              "      fill: #1967D2;\n",
              "      height: 32px;\n",
              "      padding: 0 0 0 0;\n",
              "      width: 32px;\n",
              "    }\n",
              "\n",
              "    .colab-df-convert:hover {\n",
              "      background-color: #E2EBFA;\n",
              "      box-shadow: 0px 1px 2px rgba(60, 64, 67, 0.3), 0px 1px 3px 1px rgba(60, 64, 67, 0.15);\n",
              "      fill: #174EA6;\n",
              "    }\n",
              "\n",
              "    [theme=dark] .colab-df-convert {\n",
              "      background-color: #3B4455;\n",
              "      fill: #D2E3FC;\n",
              "    }\n",
              "\n",
              "    [theme=dark] .colab-df-convert:hover {\n",
              "      background-color: #434B5C;\n",
              "      box-shadow: 0px 1px 3px 1px rgba(0, 0, 0, 0.15);\n",
              "      filter: drop-shadow(0px 1px 2px rgba(0, 0, 0, 0.3));\n",
              "      fill: #FFFFFF;\n",
              "    }\n",
              "  </style>\n",
              "\n",
              "      <script>\n",
              "        const buttonEl =\n",
              "          document.querySelector('#df-31f22653-4d14-42ed-a3a5-5d383d8d1f79 button.colab-df-convert');\n",
              "        buttonEl.style.display =\n",
              "          google.colab.kernel.accessAllowed ? 'block' : 'none';\n",
              "\n",
              "        async function convertToInteractive(key) {\n",
              "          const element = document.querySelector('#df-31f22653-4d14-42ed-a3a5-5d383d8d1f79');\n",
              "          const dataTable =\n",
              "            await google.colab.kernel.invokeFunction('convertToInteractive',\n",
              "                                                     [key], {});\n",
              "          if (!dataTable) return;\n",
              "\n",
              "          const docLinkHtml = 'Like what you see? Visit the ' +\n",
              "            '<a target=\"_blank\" href=https://colab.research.google.com/notebooks/data_table.ipynb>data table notebook</a>'\n",
              "            + ' to learn more about interactive tables.';\n",
              "          element.innerHTML = '';\n",
              "          dataTable['output_type'] = 'display_data';\n",
              "          await google.colab.output.renderOutput(dataTable, element);\n",
              "          const docLink = document.createElement('div');\n",
              "          docLink.innerHTML = docLinkHtml;\n",
              "          element.appendChild(docLink);\n",
              "        }\n",
              "      </script>\n",
              "    </div>\n",
              "  </div>\n",
              "  "
            ]
          },
          "metadata": {},
          "execution_count": 1989
        }
      ]
    },
    {
      "cell_type": "code",
      "source": [
        "fig, ax = plt.subplots(figsize=(12,6))\n",
        "\n",
        "plt.xlabel('age', fontsize='15')\n",
        "plt.ylabel('probablity', fontsize='15')\n",
        "ax.scatter(df['AGE'], df['PARASITE_STATUS'])\n",
        "ax.grid()\n",
        "plt.show()"
      ],
      "metadata": {
        "id": "KZ4B7C2ImGXg",
        "colab": {
          "base_uri": "https://localhost:8080/",
          "height": 393
        },
        "outputId": "2ba37a32-2948-4941-b9fa-22509e63ddac"
      },
      "execution_count": 1990,
      "outputs": [
        {
          "output_type": "display_data",
          "data": {
            "text/plain": [
              "<Figure size 864x432 with 1 Axes>"
            ],
            "image/png": "[encoded data removed]"
          },
          "metadata": {
            "needs_background": "light"
          }
        }
      ]
    },
    {
      "cell_type": "markdown",
      "source": [
        "For this problem, we will decide to hotencode the \"SEX\" column"
      ],
      "metadata": {
        "id": "czGzOI8RWPPg"
      }
    },
    {
      "cell_type": "code",
      "source": [
        "values = np.array(df['SEX'])\n",
        "print(values)\n",
        "# integer encode\n",
        "label_encoder = LabelEncoder()\n",
        "integer_encoded = label_encoder.fit_transform(values)\n",
        "print(integer_encoded)\n",
        "# binary encode\n",
        "onehot_encoder = OneHotEncoder(sparse=False)\n",
        "integer_encoded = integer_encoded.reshape(len(integer_encoded), 1)\n",
        "onehot_encoded = onehot_encoder.fit_transform(integer_encoded)\n",
        "print(onehot_encoded)\n",
        "# invert first example\n",
        "inverted = label_encoder.inverse_transform([np.argmax(onehot_encoded[0, :])])\n",
        "print(inverted)"
      ],
      "metadata": {
        "colab": {
          "base_uri": "https://localhost:8080/",
          "height": 0
        },
        "id": "YNvPShB6li0f",
        "outputId": "d59bae3d-eafc-4a4c-8be8-d816ad787149"
      },
      "execution_count": 1991,
      "outputs": [
        {
          "output_type": "stream",
          "name": "stdout",
          "text": [
            "['Male' 'Female' 'Male' ... 'Female' 'Male' 'Male']\n",
            "[1 0 1 ... 0 1 1]\n",
            "[[0. 1.]\n",
            " [1. 0.]\n",
            " [0. 1.]\n",
            " ...\n",
            " [1. 0.]\n",
            " [0. 1.]\n",
            " [0. 1.]]\n",
            "['Male']\n"
          ]
        },
        {
          "output_type": "stream",
          "name": "stderr",
          "text": [
            "/usr/local/lib/python3.8/dist-packages/sklearn/preprocessing/_encoders.py:828: FutureWarning: `sparse` was renamed to `sparse_output` in version 1.2 and will be removed in 1.4. `sparse_output` is ignored unless you leave `sparse` to its default value.\n",
            "  warnings.warn(\n"
          ]
        }
      ]
    },
    {
      "cell_type": "code",
      "source": [
        "X_i = df['AGE']\n",
        "y = df['PARASITE_STATUS']"
      ],
      "metadata": {
        "id": "yVtRy-A8pwxO"
      },
      "execution_count": 1992,
      "outputs": []
    },
    {
      "cell_type": "code",
      "source": [
        "X_i = X_i.to_numpy()\n",
        "y = y.to_numpy()"
      ],
      "metadata": {
        "id": "pPCuoBRMp7Ra"
      },
      "execution_count": 1993,
      "outputs": []
    },
    {
      "cell_type": "code",
      "source": [
        "X_i = X_i.reshape(len(X_i),1)"
      ],
      "metadata": {
        "id": "LI8f2K9SnPIe"
      },
      "execution_count": 1994,
      "outputs": []
    },
    {
      "cell_type": "code",
      "source": [
        "X_i = np.column_stack((onehot_encoded, X_i))"
      ],
      "metadata": {
        "id": "JnIYSfWfnk65"
      },
      "execution_count": 1995,
      "outputs": []
    },
    {
      "cell_type": "code",
      "source": [
        "x_train, x_test, y_train, y_test = train_test_split(X_i, y, test_size=0.25)"
      ],
      "metadata": {
        "id": "I4FlNGxCE64I"
      },
      "execution_count": 1996,
      "outputs": []
    },
    {
      "cell_type": "markdown",
      "source": [
        "Since there is an unbalance in the dataset, we will over sample the minority class."
      ],
      "metadata": {
        "id": "fjwO8_kJWZOU"
      }
    },
    {
      "cell_type": "code",
      "source": [
        "from imblearn.over_sampling import RandomOverSampler\n",
        "from collections import Counter\n",
        "over_sampler = RandomOverSampler(random_state=42)\n",
        "X_res, y_res = over_sampler.fit_resample(x_train, y_train)\n",
        "print(f\"Training target statistics: {Counter(y_res)}\")\n",
        "print(f\"Testing target statistics: {Counter(y_test)}\")"
      ],
      "metadata": {
        "colab": {
          "base_uri": "https://localhost:8080/",
          "height": 0
        },
        "id": "N5RhATRzaAVm",
        "outputId": "9e2c1cf5-570b-466a-df73-d9ea69c62f3c"
      },
      "execution_count": 1997,
      "outputs": [
        {
          "output_type": "stream",
          "name": "stdout",
          "text": [
            "Training target statistics: Counter({0: 2103, 1: 2103})\n",
            "Testing target statistics: Counter({0: 701, 1: 53})\n"
          ]
        }
      ]
    },
    {
      "cell_type": "code",
      "source": [
        "# w_i = np.array([0.0, 0.0, 0.0, 0.0])\n",
        "m, n = X_res.shape\n",
        "w_i = np.zeros(n)\n",
        "b_i = 0.0\n",
        "t0, t1 = 5, 50 #hyperparameters"
      ],
      "metadata": {
        "id": "XqeB2_totFN8"
      },
      "execution_count": 1998,
      "outputs": []
    },
    {
      "cell_type": "code",
      "source": [
        "def learning_rate(t):\n",
        "  return t0 / (t + t1)"
      ],
      "metadata": {
        "id": "U5WKqB271tH9"
      },
      "execution_count": 1999,
      "outputs": []
    },
    {
      "cell_type": "code",
      "source": [
        "def normalize(X):\n",
        "    return (X - X.mean(axis=0)) / X.std(axis=0)"
      ],
      "metadata": {
        "id": "RMw0jCcWymCW"
      },
      "execution_count": 2000,
      "outputs": []
    },
    {
      "cell_type": "code",
      "source": [
        "def sigmoid(z):\n",
        "  return 1.0 / (1 + np.exp(-z))"
      ],
      "metadata": {
        "id": "qLhdOb_H7wxP"
      },
      "execution_count": 2001,
      "outputs": []
    },
    {
      "cell_type": "code",
      "source": [
        "# Method to make predictions\n",
        "def predict(x, w_0, b_0):\n",
        "    z = x @ w_0 + b_0\n",
        "    return sigmoid(z)"
      ],
      "metadata": {
        "id": "fAGgvcASq2mI"
      },
      "execution_count": 2002,
      "outputs": []
    },
    {
      "cell_type": "code",
      "source": [
        "def loss(x, y, w_0, b_0):\n",
        "  y_hat = predict(x, w_0, b_0)\n",
        "  error = (-y * np.log(y_hat) - (1 - y) * np.log(1 - y_hat)).mean()\n",
        "  return error"
      ],
      "metadata": {
        "id": "tUu0GQcRpm9B"
      },
      "execution_count": 2003,
      "outputs": []
    },
    {
      "cell_type": "code",
      "source": [
        "# Method to train the model - (mini-batch implementation)\n",
        "def stoc_logistic_regression(X, y, w_0, b_0):\n",
        "\n",
        "    w, b = w_0.copy(), b_0\n",
        "\n",
        "    M, n = X.shape\n",
        "\n",
        "    x = normalize(X)\n",
        "\n",
        "    eta = 0.01\n",
        "    epochs = 200\n",
        "    bs = 100 #batch size\n",
        "\n",
        "    hist = []\n",
        "\n",
        "    for epoch in range(epochs):\n",
        "      print(f\"epoch: {epoch}\")\n",
        "      shuffled_indices = np.random.permutation(M)\n",
        "      X_shuffled = x[shuffled_indices]\n",
        "      y_shuffled = y[shuffled_indices]\n",
        "      for i in range((M-1)//bs + 1):\n",
        "\n",
        "        start_i = i*bs\n",
        "        end_i = start_i + bs\n",
        "\n",
        "        # print(f\"batch {start_i} - {end_i}\")\n",
        "        \n",
        "        # rand_idx = np.random.randint(M)\n",
        "        xi = X_shuffled[start_i:end_i]\n",
        "        yi = y_shuffled[start_i: end_i]\n",
        "\n",
        "        y_hat = predict(xi, w, b)\n",
        "        dw = (xi.T @ (y_hat - yi)) / bs # Derivative of loss wrt w\n",
        "        db = (y_hat - yi).mean() # Derivative of loss wrt b\n",
        "\n",
        "        eta = learning_rate(epoch*((M-1)//bs + 1) + i)\n",
        "        # Update w and b\n",
        "        w = w - eta * dw\n",
        "        b = b - eta * db\n",
        "\n",
        "        hist.append(loss(x, y, w, b))\n",
        "    return w, b, hist"
      ],
      "metadata": {
        "id": "S4t73t9noBRv"
      },
      "execution_count": 2004,
      "outputs": []
    },
    {
      "cell_type": "code",
      "source": [
        "w, b, hist = stoc_logistic_regression(X_res, y_res, w_i, b_i)"
      ],
      "metadata": {
        "colab": {
          "base_uri": "https://localhost:8080/",
          "height": 0
        },
        "id": "Kdla4N7ZoB00",
        "outputId": "0b4bdccf-0473-4322-c754-01ddc5b3175a"
      },
      "execution_count": 2005,
      "outputs": [
        {
          "output_type": "stream",
          "name": "stdout",
          "text": [
            "epoch: 0\n",
            "epoch: 1\n",
            "epoch: 2\n",
            "epoch: 3\n",
            "epoch: 4\n",
            "epoch: 5\n",
            "epoch: 6\n",
            "epoch: 7\n",
            "epoch: 8\n",
            "epoch: 9\n",
            "epoch: 10\n",
            "epoch: 11\n",
            "epoch: 12\n",
            "epoch: 13\n",
            "epoch: 14\n",
            "epoch: 15\n",
            "epoch: 16\n",
            "epoch: 17\n",
            "epoch: 18\n",
            "epoch: 19\n",
            "epoch: 20\n",
            "epoch: 21\n",
            "epoch: 22\n",
            "epoch: 23\n",
            "epoch: 24\n",
            "epoch: 25\n",
            "epoch: 26\n",
            "epoch: 27\n",
            "epoch: 28\n",
            "epoch: 29\n",
            "epoch: 30\n",
            "epoch: 31\n",
            "epoch: 32\n",
            "epoch: 33\n",
            "epoch: 34\n",
            "epoch: 35\n",
            "epoch: 36\n",
            "epoch: 37\n",
            "epoch: 38\n",
            "epoch: 39\n",
            "epoch: 40\n",
            "epoch: 41\n",
            "epoch: 42\n",
            "epoch: 43\n",
            "epoch: 44\n",
            "epoch: 45\n",
            "epoch: 46\n",
            "epoch: 47\n",
            "epoch: 48\n",
            "epoch: 49\n",
            "epoch: 50\n",
            "epoch: 51\n",
            "epoch: 52\n",
            "epoch: 53\n",
            "epoch: 54\n",
            "epoch: 55\n",
            "epoch: 56\n",
            "epoch: 57\n",
            "epoch: 58\n",
            "epoch: 59\n",
            "epoch: 60\n",
            "epoch: 61\n",
            "epoch: 62\n",
            "epoch: 63\n",
            "epoch: 64\n",
            "epoch: 65\n",
            "epoch: 66\n",
            "epoch: 67\n",
            "epoch: 68\n",
            "epoch: 69\n",
            "epoch: 70\n",
            "epoch: 71\n",
            "epoch: 72\n",
            "epoch: 73\n",
            "epoch: 74\n",
            "epoch: 75\n",
            "epoch: 76\n",
            "epoch: 77\n",
            "epoch: 78\n",
            "epoch: 79\n",
            "epoch: 80\n",
            "epoch: 81\n",
            "epoch: 82\n",
            "epoch: 83\n",
            "epoch: 84\n",
            "epoch: 85\n",
            "epoch: 86\n",
            "epoch: 87\n",
            "epoch: 88\n",
            "epoch: 89\n",
            "epoch: 90\n",
            "epoch: 91\n",
            "epoch: 92\n",
            "epoch: 93\n",
            "epoch: 94\n",
            "epoch: 95\n",
            "epoch: 96\n",
            "epoch: 97\n",
            "epoch: 98\n",
            "epoch: 99\n",
            "epoch: 100\n",
            "epoch: 101\n",
            "epoch: 102\n",
            "epoch: 103\n",
            "epoch: 104\n",
            "epoch: 105\n",
            "epoch: 106\n",
            "epoch: 107\n",
            "epoch: 108\n",
            "epoch: 109\n",
            "epoch: 110\n",
            "epoch: 111\n",
            "epoch: 112\n",
            "epoch: 113\n",
            "epoch: 114\n",
            "epoch: 115\n",
            "epoch: 116\n",
            "epoch: 117\n",
            "epoch: 118\n",
            "epoch: 119\n",
            "epoch: 120\n",
            "epoch: 121\n",
            "epoch: 122\n",
            "epoch: 123\n",
            "epoch: 124\n",
            "epoch: 125\n",
            "epoch: 126\n",
            "epoch: 127\n",
            "epoch: 128\n",
            "epoch: 129\n",
            "epoch: 130\n",
            "epoch: 131\n",
            "epoch: 132\n",
            "epoch: 133\n",
            "epoch: 134\n",
            "epoch: 135\n",
            "epoch: 136\n",
            "epoch: 137\n",
            "epoch: 138\n",
            "epoch: 139\n",
            "epoch: 140\n",
            "epoch: 141\n",
            "epoch: 142\n",
            "epoch: 143\n",
            "epoch: 144\n",
            "epoch: 145\n",
            "epoch: 146\n",
            "epoch: 147\n",
            "epoch: 148\n",
            "epoch: 149\n",
            "epoch: 150\n",
            "epoch: 151\n",
            "epoch: 152\n",
            "epoch: 153\n",
            "epoch: 154\n",
            "epoch: 155\n",
            "epoch: 156\n",
            "epoch: 157\n",
            "epoch: 158\n",
            "epoch: 159\n",
            "epoch: 160\n",
            "epoch: 161\n",
            "epoch: 162\n",
            "epoch: 163\n",
            "epoch: 164\n",
            "epoch: 165\n",
            "epoch: 166\n",
            "epoch: 167\n",
            "epoch: 168\n",
            "epoch: 169\n",
            "epoch: 170\n",
            "epoch: 171\n",
            "epoch: 172\n",
            "epoch: 173\n",
            "epoch: 174\n",
            "epoch: 175\n",
            "epoch: 176\n",
            "epoch: 177\n",
            "epoch: 178\n",
            "epoch: 179\n",
            "epoch: 180\n",
            "epoch: 181\n",
            "epoch: 182\n",
            "epoch: 183\n",
            "epoch: 184\n",
            "epoch: 185\n",
            "epoch: 186\n",
            "epoch: 187\n",
            "epoch: 188\n",
            "epoch: 189\n",
            "epoch: 190\n",
            "epoch: 191\n",
            "epoch: 192\n",
            "epoch: 193\n",
            "epoch: 194\n",
            "epoch: 195\n",
            "epoch: 196\n",
            "epoch: 197\n",
            "epoch: 198\n",
            "epoch: 199\n"
          ]
        }
      ]
    },
    {
      "cell_type": "code",
      "source": [
        "fig, ax = plt.subplots(figsize=(12,6))\n",
        "\n",
        "plt.title(\"Loss Function\", fontsize='15')\n",
        "plt.xlabel('Number of Iterations', fontsize='15')\n",
        "plt.ylabel(r'Loss(w, b)', fontsize='15')\n",
        "# plt.figtext(x=.56, y=.6, s=\"At the final iteration:\\n\\nw = {}\\nb = {}\".format(w, b))\n",
        "ax.plot(hist, 'b')\n",
        "ax.grid()\n",
        "plt.show()"
      ],
      "metadata": {
        "colab": {
          "base_uri": "https://localhost:8080/",
          "height": 411
        },
        "id": "ov36ZOEQw3Fc",
        "outputId": "f3d9c648-1e66-4981-f46b-75a48ec5e57a"
      },
      "execution_count": 2006,
      "outputs": [
        {
          "output_type": "display_data",
          "data": {
            "text/plain": [
              "<Figure size 864x432 with 1 Axes>"
            ],
            "image/png": "[encoded data removed]"
          },
          "metadata": {
            "needs_background": "light"
          }
        }
      ]
    },
    {
      "cell_type": "code",
      "source": [
        "def prediction(X, w_0, b_0):\n",
        "  \n",
        "    x = normalize(X)\n",
        "    \n",
        "    preds = predict(x, w_0, b_0)\n",
        "    \n",
        "    pred_class = []\n",
        "    # if y_hat >= 0.5 --> round up to 1\n",
        "    # if y_hat < 0.5 --> round up to 1\n",
        "    pred_class = [1 if i > 0.5 else 0 for i in preds]\n",
        "    \n",
        "    return np.array(pred_class)"
      ],
      "metadata": {
        "id": "mMzQk_E53lUd"
      },
      "execution_count": 2007,
      "outputs": []
    },
    {
      "cell_type": "code",
      "source": [
        "def accuracy(y, y_hat):\n",
        "    accuracy = np.sum(y == y_hat) / len(y)\n",
        "    return accuracy"
      ],
      "metadata": {
        "id": "oQQa9T2bQJG4"
      },
      "execution_count": 2008,
      "outputs": []
    },
    {
      "cell_type": "code",
      "source": [
        "p = prediction(x_test, w, b)"
      ],
      "metadata": {
        "id": "69dzR60QicFf"
      },
      "execution_count": 2009,
      "outputs": []
    },
    {
      "cell_type": "code",
      "source": [
        "accuracy(y_test, p)"
      ],
      "metadata": {
        "colab": {
          "base_uri": "https://localhost:8080/",
          "height": 0
        },
        "id": "eJ4WpMSiQQjH",
        "outputId": "fa4d956c-eb7a-4e35-f6ea-f21c3e60ec3b"
      },
      "execution_count": 2010,
      "outputs": [
        {
          "output_type": "execute_result",
          "data": {
            "text/plain": [
              "0.5013262599469496"
            ]
          },
          "metadata": {},
          "execution_count": 2010
        }
      ]
    },
    {
      "cell_type": "code",
      "source": [
        "f1_score(y_test, p)"
      ],
      "metadata": {
        "colab": {
          "base_uri": "https://localhost:8080/",
          "height": 0
        },
        "id": "YMHQb9E8iILI",
        "outputId": "7a80b6de-d2b3-4c95-b7b8-b766a807dc8a"
      },
      "execution_count": 2011,
      "outputs": [
        {
          "output_type": "execute_result",
          "data": {
            "text/plain": [
              "0.168141592920354"
            ]
          },
          "metadata": {},
          "execution_count": 2011
        }
      ]
    },
    {
      "cell_type": "markdown",
      "source": [
        "As you can see there is a problem with my implementation, I dont know where I went wrong but maybe it has to something with not enough features or overfitting the model."
      ],
      "metadata": {
        "id": "qzikLH_nXVLa"
      }
    }
  ]
}